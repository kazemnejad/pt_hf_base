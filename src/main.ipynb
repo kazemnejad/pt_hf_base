{
 "cells": [
  {
   "cell_type": "markdown",
   "metadata": {
    "collapsed": true,
    "pycharm": {
     "name": "#%% md\n"
    }
   },
   "source": [
    "# Main Notebook"
   ]
  },
  {
   "cell_type": "markdown",
   "source": [
    "## Step 1: Load the runtime"
   ],
   "metadata": {
    "collapsed": false,
    "pycharm": {
     "name": "#%% md\n"
    }
   }
  },
  {
   "cell_type": "code",
   "execution_count": null,
   "outputs": [],
   "source": [
    "import os\n",
    "os.environ.update({\n",
    "    \"APP_DS_SPLIT\": \"\",\n",
    "    \"APP_DIRECTORY\": \"\",\n",
    "    \"APP_EXPERIMENT_NAME\": \"\"\n",
    "})\n",
    "configs = \"configs/t5a_debug.jsonnet\""
   ],
   "metadata": {
    "collapsed": false,
    "pycharm": {
     "name": "#%%\n"
    }
   }
  },
  {
   "cell_type": "code",
   "execution_count": null,
   "outputs": [],
   "source": [
    "# Taken from https://www.oreilly.com/library/view/python-cookbook/0596001673/ch04s23.html\n",
    "def add_sys_path(new_path):\n",
    "    import sys, os\n",
    "\n",
    "    # Avoid adding nonexistent paths\n",
    "    if not os.path.exists(new_path): return -1\n",
    "\n",
    "    # Standardize the path. Windows is case-insensitive, so lowercase\n",
    "    # for definiteness.\n",
    "    new_path = os.path.abspath(new_path)\n",
    "    if sys.platform == 'win32':\n",
    "        new_path = new_path.lower(  )\n",
    "\n",
    "    # Check against all currently available paths\n",
    "    for x in sys.path:\n",
    "        x = os.path.abspath(x)\n",
    "        if sys.platform == 'win32':\n",
    "            x = x.lower(  )\n",
    "        if new_path in (x, x + os.sep):\n",
    "            return 0\n",
    "    sys.path.append(new_path)\n",
    "    return 1\n",
    "\n",
    "%cd ~\n",
    "import os\n",
    "add_sys_path(f\"{os.getcwd()}/src\")\n",
    "from main import EntryPoint\n",
    "ep = EntryPoint(configs, debug_mode=True)\n",
    "\n",
    "RUNTIME = ep._exp\n",
    "CONFIG = ep._config"
   ],
   "metadata": {
    "collapsed": false,
    "pycharm": {
     "name": "#%%\n"
    }
   }
  },
  {
   "cell_type": "markdown",
   "source": [
    "## Simple Prediction"
   ],
   "metadata": {
    "collapsed": false,
    "pycharm": {
     "name": "#%% md\n"
    }
   }
  },
  {
   "cell_type": "code",
   "execution_count": null,
   "outputs": [],
   "source": [
    "from runtime.model_inference_shell import generate, predict_next_token\n",
    "\n",
    "trainer = RUNTIME.get_loaded_trainer(load_best=True)\n",
    "model = trainer.model"
   ],
   "metadata": {
    "collapsed": false,
    "pycharm": {
     "name": "#%%\n"
    }
   }
  },
  {
   "cell_type": "code",
   "execution_count": null,
   "outputs": [],
   "source": [
    "generate(RUNTIME, model, \"jump twice\", max_length=100)"
   ],
   "metadata": {
    "collapsed": false,
    "pycharm": {
     "name": "#%%\n"
    }
   }
  },
  {
   "cell_type": "code",
   "execution_count": null,
   "outputs": [],
   "source": [
    "predict_next_token(RUNTIME, model,\n",
    "                   \"3 1 4 9 3 8 4 2 4 + 5 9 4 1 6 7 5 4 2\\n<scratch> 2 + 2 , C: 0#4 + 5 , 4 C: 0#8 +\",\n",
    "                   target_tokens=[])"
   ],
   "metadata": {
    "collapsed": false,
    "pycharm": {
     "name": "#%%\n"
    }
   }
  },
  {
   "cell_type": "markdown",
   "source": [
    "## JavaScript Visualization"
   ],
   "metadata": {
    "collapsed": false,
    "pycharm": {
     "name": "#%% md\n"
    }
   }
  },
  {
   "cell_type": "code",
   "execution_count": null,
   "outputs": [],
   "source": [
    "! pip install --user -qq ecco"
   ],
   "metadata": {
    "collapsed": false,
    "pycharm": {
     "name": "#%%\n"
    }
   }
  },
  {
   "cell_type": "code",
   "execution_count": null,
   "outputs": [],
   "source": [
    "from ecco import LM\n",
    "from ecco.util import load_config\n",
    "\n",
    "trainer = RUNTIME.get_loaded_trainer(load_best=True)\n",
    "model = trainer.model\n",
    "\n",
    "model.config.output_attentions = True\n",
    "model.config.output_hidden_states = True\n",
    "\n",
    "lm = LM(model, RUNTIME.tokenizer,\n",
    "        model_name=model.config._name_or_path,\n",
    "        config=load_config(model.config._name_or_path),\n",
    "        collect_activations_flag=False,\n",
    "        collect_activations_layer_nums=None,\n",
    "        verbose=True,\n",
    "        gpu=True)"
   ],
   "metadata": {
    "collapsed": false,
    "pycharm": {
     "name": "#%%\n"
    }
   }
  },
  {
   "cell_type": "code",
   "execution_count": null,
   "outputs": [],
   "source": [
    "output = lm.generate(\"3 1 4 9 3 8 4 2 4 + 5 9 4 1 6 7 5 4 2\\n\", generate=400, do_sample=False, attribution=['ig', 'grad_x_input'])"
   ],
   "metadata": {
    "collapsed": false,
    "pycharm": {
     "name": "#%%\n"
    }
   }
  },
  {
   "cell_type": "code",
   "execution_count": null,
   "outputs": [],
   "source": [
    "output.primary_attributions(attr_method='ig', style=\"detailed\")"
   ],
   "metadata": {
    "collapsed": false,
    "pycharm": {
     "name": "#%%\n"
    }
   }
  },
  {
   "cell_type": "code",
   "execution_count": null,
   "outputs": [],
   "source": [
    "output.layer_predictions(position=43, topk=5)"
   ],
   "metadata": {
    "collapsed": false,
    "pycharm": {
     "name": "#%%\n"
    }
   }
  },
  {
   "cell_type": "code",
   "execution_count": null,
   "outputs": [],
   "source": [
    "output.rankings()"
   ],
   "metadata": {
    "collapsed": false,
    "pycharm": {
     "name": "#%%\n"
    }
   }
  }
 ],
 "metadata": {
  "kernelspec": {
   "display_name": "Python 3",
   "language": "python",
   "name": "python3"
  },
  "language_info": {
   "codemirror_mode": {
    "name": "ipython",
    "version": 2
   },
   "file_extension": ".py",
   "mimetype": "text/x-python",
   "name": "python",
   "nbconvert_exporter": "python",
   "pygments_lexer": "ipython2",
   "version": "2.7.6"
  }
 },
 "nbformat": 4,
 "nbformat_minor": 0
}